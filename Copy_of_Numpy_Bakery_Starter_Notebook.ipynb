{
  "nbformat": 4,
  "nbformat_minor": 0,
  "metadata": {
    "colab": {
      "name": "Copy of Numpy Bakery Starter Notebook.ipynb",
      "provenance": [],
      "collapsed_sections": [
        "uIUAfF9c2jJ1"
      ]
    },
    "kernelspec": {
      "name": "python3",
      "display_name": "Python 3"
    },
    "language_info": {
      "name": "python"
    }
  },
  "cells": [
    {
      "cell_type": "markdown",
      "source": [
        "# Bakery Numpy Exercise (Core) \n",
        "\n",
        "Note: One challenge of this exercise is staying organized, so we recommend you keep track of what is going on with paper and pencil as you work through the exercise."
      ],
      "metadata": {
        "id": "c-7UVcOE2FTD"
      }
    },
    {
      "cell_type": "code",
      "metadata": {
        "colab": {
          "base_uri": "https://localhost:8080/"
        },
        "id": "ev4sAErNUgAi",
        "outputId": "a4c0d8ce-1250-4925-f16f-8b8bd36e40fc"
      },
      "source": [
        "price = [2, 1, 10]\n",
        "type(price)"
      ],
      "execution_count": 88,
      "outputs": [
        {
          "output_type": "execute_result",
          "data": {
            "text/plain": [
              "list"
            ]
          },
          "metadata": {},
          "execution_count": 88
        }
      ]
    },
    {
      "cell_type": "code",
      "metadata": {
        "colab": {
          "base_uri": "https://localhost:8080/"
        },
        "id": "TkA8x3t5UzQX",
        "outputId": "7717bd6c-a39e-4c42-cb92-76be29487fe7"
      },
      "source": [
        "quantity = [17, 40, 1]\n",
        "type(quantity)"
      ],
      "execution_count": 89,
      "outputs": [
        {
          "output_type": "execute_result",
          "data": {
            "text/plain": [
              "list"
            ]
          },
          "metadata": {},
          "execution_count": 89
        }
      ]
    },
    {
      "cell_type": "code",
      "metadata": {
        "id": "tGWEfasRU4J4"
      },
      "source": [
        "# price * quantity"
      ],
      "execution_count": 90,
      "outputs": []
    },
    {
      "cell_type": "code",
      "metadata": {
        "id": "7Pdo44osU7Qr"
      },
      "source": [
        "import numpy as np"
      ],
      "execution_count": 91,
      "outputs": []
    },
    {
      "cell_type": "code",
      "metadata": {
        "colab": {
          "base_uri": "https://localhost:8080/"
        },
        "id": "Y_FoXPDuU9X7",
        "outputId": "5f908d58-964a-4363-d109-09839110a822"
      },
      "source": [
        "price_array = np.array(price)\n",
        "quantity_array = np.array(quantity)\n",
        "type(price_array)"
      ],
      "execution_count": 92,
      "outputs": [
        {
          "output_type": "execute_result",
          "data": {
            "text/plain": [
              "numpy.ndarray"
            ]
          },
          "metadata": {},
          "execution_count": 92
        }
      ]
    },
    {
      "cell_type": "code",
      "metadata": {
        "colab": {
          "base_uri": "https://localhost:8080/"
        },
        "id": "RHeZ10KPVElu",
        "outputId": "aff8dc8f-0736-4f5d-d51c-30434361458b"
      },
      "source": [
        "price_array * quantity_array"
      ],
      "execution_count": 93,
      "outputs": [
        {
          "output_type": "execute_result",
          "data": {
            "text/plain": [
              "array([34, 40, 10])"
            ]
          },
          "metadata": {},
          "execution_count": 93
        }
      ]
    },
    {
      "cell_type": "code",
      "metadata": {
        "id": "2VCgaG5kVIsi"
      },
      "source": [
        "cost_array = np.array([0.25, 0.50, 5.00])"
      ],
      "execution_count": 94,
      "outputs": []
    },
    {
      "cell_type": "code",
      "metadata": {
        "colab": {
          "base_uri": "https://localhost:8080/"
        },
        "id": "Kqz1QjPmVNjc",
        "outputId": "46a66df0-0705-40d4-bbbf-7813ebbea8b4"
      },
      "source": [
        "profit_array = price_array - cost_array\n",
        "print(profit_array)\n"
      ],
      "execution_count": 95,
      "outputs": [
        {
          "output_type": "stream",
          "name": "stdout",
          "text": [
            "[1.75 0.5  5.  ]\n"
          ]
        }
      ]
    },
    {
      "cell_type": "code",
      "metadata": {
        "colab": {
          "base_uri": "https://localhost:8080/"
        },
        "id": "ypULDNmRVRAY",
        "outputId": "26ed33e6-440c-46f3-b59a-5ff563f39b64"
      },
      "source": [
        "profit_array > 2.00\n"
      ],
      "execution_count": 96,
      "outputs": [
        {
          "output_type": "execute_result",
          "data": {
            "text/plain": [
              "array([False, False,  True])"
            ]
          },
          "metadata": {},
          "execution_count": 96
        }
      ]
    },
    {
      "cell_type": "code",
      "metadata": {
        "id": "_vm50VzDVTed",
        "colab": {
          "base_uri": "https://localhost:8080/"
        },
        "outputId": "d9691bde-244e-4e3c-ca5f-71829398af05"
      },
      "source": [
        "price_array = price_array + [7]\n",
        "print(price_array)\n"
      ],
      "execution_count": 97,
      "outputs": [
        {
          "output_type": "stream",
          "name": "stdout",
          "text": [
            "[ 9  8 17]\n"
          ]
        }
      ]
    },
    {
      "cell_type": "code",
      "metadata": {
        "colab": {
          "base_uri": "https://localhost:8080/"
        },
        "id": "q-YAOQgWVXGw",
        "outputId": "0022dbd3-f19e-4aa4-e2de-5ca739d44ad7"
      },
      "source": [
        "# Just fixing the mistake\n",
        "price_array = price_array - [7]\n",
        "# The proper way to append an element to an array\n",
        "price_array = np.append(price_array, 7)\n",
        "print(price_array)\n"
      ],
      "execution_count": 98,
      "outputs": [
        {
          "output_type": "stream",
          "name": "stdout",
          "text": [
            "[ 2  1 10  7]\n"
          ]
        }
      ]
    },
    {
      "cell_type": "code",
      "metadata": {
        "colab": {
          "base_uri": "https://localhost:8080/"
        },
        "id": "SO786-UWVZMi",
        "outputId": "16cb8d5e-4eb4-477e-b579-cdebafad952c"
      },
      "source": [
        "price_array = np.append(price_array, [4.50, 3, 4, 9])\n",
        "print(price_array)\n",
        "\n"
      ],
      "execution_count": 99,
      "outputs": [
        {
          "output_type": "stream",
          "name": "stdout",
          "text": [
            "[ 2.   1.  10.   7.   4.5  3.   4.   9. ]\n"
          ]
        }
      ]
    },
    {
      "cell_type": "code",
      "metadata": {
        "colab": {
          "base_uri": "https://localhost:8080/"
        },
        "id": "-4vXAPEcVdcU",
        "outputId": "303bd49f-0fc7-430b-9e91-9f6b90a46d04"
      },
      "source": [
        "print(price_array.dtype)\n"
      ],
      "execution_count": 100,
      "outputs": [
        {
          "output_type": "stream",
          "name": "stdout",
          "text": [
            "float64\n"
          ]
        }
      ]
    },
    {
      "cell_type": "code",
      "metadata": {
        "colab": {
          "base_uri": "https://localhost:8080/"
        },
        "id": "y8-tYZcHVgon",
        "outputId": "d220ffcb-41d8-4aa3-d7a5-f30b58c88f89"
      },
      "source": [
        "price_array = np.delete(price_array, -1)\n",
        "print(price_array)\n"
      ],
      "execution_count": 101,
      "outputs": [
        {
          "output_type": "stream",
          "name": "stdout",
          "text": [
            "[ 2.   1.  10.   7.   4.5  3.   4. ]\n"
          ]
        }
      ]
    },
    {
      "cell_type": "code",
      "metadata": {
        "colab": {
          "base_uri": "https://localhost:8080/"
        },
        "id": "LR2xG2_FVjLr",
        "outputId": "1cef7f22-2de2-42b3-c21e-e8de704a121c"
      },
      "source": [
        "price_array[2] = 12\n",
        "print(price_array)\n"
      ],
      "execution_count": 102,
      "outputs": [
        {
          "output_type": "stream",
          "name": "stdout",
          "text": [
            "[ 2.   1.  12.   7.   4.5  3.   4. ]\n"
          ]
        }
      ]
    },
    {
      "cell_type": "markdown",
      "source": [
        "1) OPEN THE NOTEBOOK YOU CREATED DURING THE PREVIOUS LESSON: INTRO TO NUMPY ARRAYS!\n",
        "\n",
        "If you did not start this notebook, please go back to the INTRO TO NUMPY ARRAYS lesson and follow along with the code before starting this task!\n",
        "\n",
        "You will start this task where the demonstration code left off.  "
      ],
      "metadata": {
        "id": "l8IAB9J92gND"
      }
    },
    {
      "cell_type": "markdown",
      "source": [
        "# The Assignment Starts Here"
      ],
      "metadata": {
        "id": "uIUAfF9c2jJ1"
      }
    },
    {
      "cell_type": "markdown",
      "metadata": {
        "id": "1xunhHPaWCi-"
      },
      "source": [
        "2) Update the  quantity_sold_array to include the sale of 2 pies,  3 trays of fudge, 16 cupcakes, and 5 loaves of banana bread.  You also realize that one of the cookies you thought was sold had actually fallen on the ground, so edit the quantity_sold_array from 40 to 39."
      ]
    },
    {
      "cell_type": "code",
      "metadata": {
        "id": "k8a4SXVKVpDa",
        "outputId": "0f339384-76aa-4188-aaae-be977723f3b6",
        "colab": {
          "base_uri": "https://localhost:8080/"
        }
      },
      "source": [
        "quantity_array\n",
        "print(quantity_array)"
      ],
      "execution_count": 103,
      "outputs": [
        {
          "output_type": "stream",
          "name": "stdout",
          "text": [
            "[17 40  1]\n"
          ]
        }
      ]
    },
    {
      "cell_type": "code",
      "metadata": {
        "id": "O_enU-46V0YT",
        "colab": {
          "base_uri": "https://localhost:8080/"
        },
        "outputId": "1eaf283f-067f-4bbb-80a1-4ea04d8dad91"
      },
      "source": [
        "quantity_array[1] = 39\n",
        "print(quantity_array)"
      ],
      "execution_count": 104,
      "outputs": [
        {
          "output_type": "stream",
          "name": "stdout",
          "text": [
            "[17 39  1]\n"
          ]
        }
      ]
    },
    {
      "cell_type": "code",
      "source": [
        "quantity_array = np.append(quantity_array, [2, 3, 16, 5])\n",
        "print(quantity_array)"
      ],
      "metadata": {
        "colab": {
          "base_uri": "https://localhost:8080/"
        },
        "id": "KamWHZ9FzLiz",
        "outputId": "2aa3ef61-bb96-4a77-9390-c287b11b4cc9"
      },
      "execution_count": 105,
      "outputs": [
        {
          "output_type": "stream",
          "name": "stdout",
          "text": [
            "[17 39  1  2  3 16  5]\n"
          ]
        }
      ]
    },
    {
      "cell_type": "markdown",
      "metadata": {
        "id": "vfIgDaikWFdw"
      },
      "source": [
        "3) Determine the amount of money collected from the sale of each item at the bake sale.  "
      ]
    },
    {
      "cell_type": "code",
      "metadata": {
        "id": "ikN8urc4WH86",
        "colab": {
          "base_uri": "https://localhost:8080/"
        },
        "outputId": "67759300-40d2-4b1d-c9dc-ac1a143945e8"
      },
      "source": [
        "profit_array = quantity_array * price_array\n",
        "print(profit_array)"
      ],
      "execution_count": 106,
      "outputs": [
        {
          "output_type": "stream",
          "name": "stdout",
          "text": [
            "[34.  39.  12.  14.  13.5 48.  20. ]\n"
          ]
        }
      ]
    },
    {
      "cell_type": "markdown",
      "metadata": {
        "id": "v8xG8a77WyTV"
      },
      "source": [
        "4) Create a NumPy array \"quantity_leftover\" that includes the quantity of each item remaining at the end of the sale: 2 cakes, 1 pie, 6 trays of fudge, 2 loaves of banana bread.  Hint: Make sure to include \"0\" for any item that was sold out. Why is this important when creating the array?"
      ]
    },
    {
      "cell_type": "code",
      "metadata": {
        "id": "_OSmjj-mWNE2",
        "colab": {
          "base_uri": "https://localhost:8080/"
        },
        "outputId": "a677efdb-3fd2-46b7-e81b-9caada47c1a8"
      },
      "source": [
        "quantity_leftover =[(0, 0, 2, 1, 6, 0, 2)]\n",
        "print(quantity_leftover)"
      ],
      "execution_count": 107,
      "outputs": [
        {
          "output_type": "stream",
          "name": "stdout",
          "text": [
            "[(0, 0, 2, 1, 6, 0, 2)]\n"
          ]
        }
      ]
    },
    {
      "cell_type": "code",
      "source": [
        "quantity_leftover = np.array(quantity_leftover)\n",
        "type(quantity_leftover)"
      ],
      "metadata": {
        "id": "Kj7Tv5G42k-T",
        "outputId": "2cfc618e-4a0d-42d2-e7a1-76dfca02f9d9",
        "colab": {
          "base_uri": "https://localhost:8080/"
        }
      },
      "execution_count": 108,
      "outputs": [
        {
          "output_type": "execute_result",
          "data": {
            "text/plain": [
              "numpy.ndarray"
            ]
          },
          "metadata": {},
          "execution_count": 108
        }
      ]
    },
    {
      "cell_type": "markdown",
      "source": [
        "***because you will get an operand could not be broadcast together error***"
      ],
      "metadata": {
        "id": "JtQ5XL0h10T_"
      }
    },
    {
      "cell_type": "markdown",
      "metadata": {
        "id": "Pny1zRYZW1AF"
      },
      "source": [
        "5) The club decides to sell the leftover items at half price and everything quickly sells out!  Determine how much money was collected from the clearance sale. "
      ]
    },
    {
      "cell_type": "code",
      "metadata": {
        "id": "VPymUS0wW39q",
        "colab": {
          "base_uri": "https://localhost:8080/"
        },
        "outputId": "82f40739-dca7-43dc-ec41-14c46ccae7ec"
      },
      "source": [
        "clearance_array = price_array * .5\n",
        "print(clearance_array)"
      ],
      "execution_count": 112,
      "outputs": [
        {
          "output_type": "stream",
          "name": "stdout",
          "text": [
            "[1.   0.5  6.   3.5  2.25 1.5  2.  ]\n"
          ]
        }
      ]
    },
    {
      "cell_type": "code",
      "source": [
        "clearance_sold = clearance_array * quantity_leftover\n",
        "print(clearance_sold)"
      ],
      "metadata": {
        "id": "UG9kjTlW4agU",
        "outputId": "52e7e8b2-71c5-43f5-9039-7668762e9144",
        "colab": {
          "base_uri": "https://localhost:8080/"
        }
      },
      "execution_count": 113,
      "outputs": [
        {
          "output_type": "stream",
          "name": "stdout",
          "text": [
            "[[ 0.   0.  12.   3.5 13.5  0.   4. ]]\n"
          ]
        }
      ]
    },
    {
      "cell_type": "markdown",
      "metadata": {
        "id": "dDqAKj9jXLz4"
      },
      "source": [
        "6) How much total money was collected from the bake sale (including the sale of full price and clearance items)?\n",
        "\n",
        "Hint: Your final answer should be $213.50, but you must make sure you get this answer with your NumPy coding skills!!"
      ]
    },
    {
      "cell_type": "code",
      "metadata": {
        "id": "CmqGXhMHXOFD",
        "colab": {
          "base_uri": "https://localhost:8080/"
        },
        "outputId": "39e45e90-6f1b-488b-8df1-9e32546dcb39"
      },
      "source": [
        "money_made = profit_array + clearance_sold\n",
        "print(money_made)"
      ],
      "execution_count": 117,
      "outputs": [
        {
          "output_type": "stream",
          "name": "stdout",
          "text": [
            "[[34.  39.  24.  17.5 27.  48.  24. ]]\n"
          ]
        }
      ]
    },
    {
      "cell_type": "code",
      "source": [
        "np.cumsum(money_made)"
      ],
      "metadata": {
        "id": "0XOu2bzX5vRZ",
        "outputId": "6b023e76-47ad-47bc-ea1b-c3adf9211d0d",
        "colab": {
          "base_uri": "https://localhost:8080/"
        }
      },
      "execution_count": 118,
      "outputs": [
        {
          "output_type": "execute_result",
          "data": {
            "text/plain": [
              "array([ 34. ,  73. ,  97. , 114.5, 141.5, 189.5, 213.5])"
            ]
          },
          "metadata": {},
          "execution_count": 118
        }
      ]
    }
  ]
}